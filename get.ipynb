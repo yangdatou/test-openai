{
 "cells": [
  {
   "cell_type": "code",
   "execution_count": 145,
   "metadata": {},
   "outputs": [
    {
     "name": "stdout",
     "output_type": "stream",
     "text": [
      "我希望你是一名专业的视频内容编辑，你的工作是基于视频的字幕将视频改写成一篇文章。请你将视频字幕文本进行总结，然后以无序列表的方式返回。记得不要重复句子，确保所有的句子都足够精简，清晰完整，祝你好运！\n",
      "视频标题：到底什么是辩证法？从古希腊到黑格尔的哲学之路\n",
      "视频字幕：哈喽大家好,这里是赤色幽灵指南,致力于为您讲述改造世界的学说,出于众所周知的原因呢,原先准备好的视频现在发不出来了,我只好连夜肝出一些新视频来,这期纯哲学啊,纯哲学,这也是因为往期视频里有很多朋友留言说,希望讲一讲哲学思维的底层方法论什么的,我们怎样像马老师那样思考,那么本期视频我就带你走进马老师的老师黑格尔的哲学世界,来翻译翻译究竟什么是哲学,什么是辩证法,大家也可以多多发弹幕和评论告诉我,你还想听什么,这些都有可能成为我的下一个选题,那么接下来游戏开始,dialectic这个德语词汇最早被赫林先生翻译成辩证法引进国内,事实上这个翻译常常引起我们的误解,好像他是我们认识事物,分析问题的方法,是认识论上的东西,事实上,辩证法在黑格尔那里从来都是直达本体论的,他讲的是世界自身的运动方式,在本期视频的末尾,你将完整看到为什么辩证法是认识论本体论和逻辑学的统一,本期视频除了黑格尔之外,还将涉及到泰勒斯赫拉克利特巴门尼德,亚里士多德,笛卡尔斯宾诺莎康德,费希特和谢林,大家可以把师傅别念了,打在公屏上,哲学家,黑格尔最为看重的就是历史,他认为真理就是考察概念,在历史上的各个哲学家那里场露出了何种规定性,把所有这些因素综合起来,才构成对绝对的整体认识,所以在黑格尔之前,我们必须穿越黑格尔哲学的前史,我们的旅途毫无悬念的需要从希腊开始,几乎所有讲述辩证法的文本都会把辩证法的传统至少上溯到苏格拉底,黑格尔则把赫拉克利特之诺和苏格拉底共同作为辩证法的创始人,我们知道苏格拉底酷爱论辩,他尤其喜欢在对话中让人们一步步达到真正的认识,这种知识的助产术,也就被他称为辩证法,辩证法的本意就是对话dialog,如果你看过一些以苏格拉底为主角的对话录的话,你会发现在论辩中,他会不断提出质疑和补充,使对方不断扬弃掉错误的观念,并自己推出对事物的真正知识,在苏格拉底那里,作为一种认识方法的论辩,已经不仅仅停留在主体认识事物,辩论家之间分一个对错的层面了,而是在还原事物运动的本来样貌,使知识本身在我们的对话中产生出来,作为主体的我们反倒同时成为了知识产生自己和事物运动的中介,这可能对于初学者来说不太好理解,但如果这是你第二次观看本视频的话,你会发现这里已经体现着黑格尔的精神了,我们说哲学和宗教都起源于一种终极关怀,试图探求我是谁,从哪来,要往哪去,给作为人的自己构建一套由来和目的的体系,古希腊的自然哲学就是试图通过认识世界,进而认识人,探求人如何组织自己的行动和生活的哲学,希腊人对这个方生方死,变动不居的现象,世界感到不满,他们希望找到这个现象,世界之中一切都在变化,唯独它本身不变的东西,否则如果一切都在变的话,世界都要失掉时代性了,他们把这个东西称作世界的本源,于是这个名叫自然哲学的,在水火土风四大基本元素所象征的本质因素中挑一个出来,充当世界本源的寻根游戏,开始了泰勒斯被认为是世界上第一位哲学家,因为他率先回答了世界的本源是什么,它的答案是水,或者说是水所象征的那个生成生长的生命元素,它像水一样,自身没有形状而不断流淌,万物从中生出,生灭变化之后又回归于水,我们知道早期哲学家使用的概念和方法并不严格,他们往往要选择隐喻的方法来阐述自己的哲学思辨,泰勒斯的学生阿纳克西曼德,把这种无形无状万物归一的原则继承下来,直接称世界的本源是ipaon,意思就是无定型,沿着这条思路走下去,我们将遇到哲学概念史上节点式的人物,他叫赫拉克利特,他的关键概念是罗格斯logos,词源是lego,本意是言说话语,进而随着人们的使用而派生出计量,理性规则等含义,第一个把罗格斯作为哲学概念来使用的哲学家就是赫拉克利特,赫拉克利特认为,世界就是一团永恒不灭的火火,也就是作为普遍规律的理性精神,我们常常把罗格斯和中国哲学中的道作为一个类比,因为他们都同时具有言说和天理的含义,这代表人们心中古已有之的一个理念,那就是人们可以用言说来把握世界的本质,言说和天理是同一的,思维和存在是同一的,第一个贯彻了这条原则的哲学家叫做巴门尼德,前面说过,自然哲学的初衷是找一个不变的东西来支撑这个变动不居的现象世界,结果他们找到的东西却比现象世界流变的还要厉害,这不扯淡吗,于是希腊哲学必然要向更高的维度转向,赫拉克利特说,万物皆流,万物皆变,巴门尼德偏要说,万物皆动,为他不动,他自身不动,但却是一切事物的推动者,从巴门尼德开始,我们称之为本体论的转向,这个转向我们要从语言学说起,在人们的语言交流中,逐渐形成了一种基本的语句结构,就是主词系词名词的结构,\n",
      "我希望你是一名专业的视频内容编辑，总结评论中被大家认可的观点。请你将视频评论进行总结，然后以无序列表的方式返回，不要超过5条。记得不要重复句子，确保所有的句子都足够精简，清晰完整，祝你好运！\n",
      "视频标题：到底什么是辩证法？从古希腊到黑格尔的哲学之路\n",
      "以下是视频评论，每条评论前有其编号：\n",
      "0. 人生寄一世奄忽若飙尘: 将近三十年以前，当黑格尔辩证法还很流行的时候，我就批判过黑格尔辩证法的神秘方面。但是，正当我写《资本论》第一卷时，愤懑的、自负的、平庸的、今天在德国知识界发号施令的模仿者们，却已高兴地象莱辛时代大胆的莫泽斯·门德尔森对待斯宾诺莎那样对待黑格尔，即把他当作一条“死狗”了。\n",
      "    因此，我要公开承认我是这位大思想家的学生，并且在关于价值理论的一章中，有些地方我甚至卖弄起黑格尔特有的表达方式。辩证法在黑格尔手中神秘化了，但这决不妨碍他第一个全面地有意识地叙述了辩证法的一般运动形式。\n",
      "  在他那里，辩证法是倒立着的。必须把它倒过来，以便发现神秘外壳中的合理内核。  辩证法，在其神秘形式上，成了德国的时髦东西，因为它似乎使现存事物显得光彩。辩证法，在其合理形态上，引起资产阶级及其夸夸其谈的代言人的恼怒和恐怖，因为辩证法在对现存事物的肯定的理解中同时包含对现存事物的否定的理解，即对现存事物的必然灭亡的理解；辩证法对每一种既成的形式都是从不断的运动中，因而也是从它的暂时性方面去理解；辩证法不崇拜任何东西，按其本质来说，它是批判的和革命的。\n",
      "    使实际的资产者最深切地感到资本主义社会充满矛盾的运动的，是现代工业所经历的周期循环的变动，而这种变动的顶点就是普遍危机。这个危机又要临头了，虽然它还处于预备阶段；由于它的舞台的广阔和它的作用的强烈，它甚至会把辩证法灌进新的神圣普鲁士德意志帝国的暴发户们的头脑里去。\n",
      "    \n",
      "卡尔·马克思\n",
      "1. 六鸦啊啊啊: 本视频最大的优点：是一部通史\n",
      "本视频最大的缺点：是一部通史\n",
      "[doge][doge][doge]\n",
      "2. 张泽平锦: 看了点哲学史 有看了不少up 突然想起来初中时候有个好像苏格拉底的同学 他就掌握辩证法 和我争论什么时候一直给我补充问题 那时候什么哲学一点都没了解 说一点共同爱好就是我有一点鉴证他对历史有点爱好 还有高人造语言 那时候我也就为了完善和得到什么就一直和他孜孜不倦的对 最后得到我们双方都认可的 有点怀念那时候的日子 可惜他是外省的 中考比我高三十多分还是被分流到职中了就在刚刚看up的视频开头 说到苏格拉底我就想起他 他经常谦虚 说自己不足 但是因为我比他成绩还差 我就不允许他如此 经常营养他 但是现在看来确实 他的谦虚是有道理的 因为我现在是普通生考入学校 转了美术班 美术班成绩都差一截 我看来很多同学 哎 真的 我有时候也在往我那个同学靠拢  有点怀念他 虽然qq有联系 但是始终没有在学校时候和他争辩时候快活\n",
      "3. CommunistLeagues: 一边跑步机一边听 也不知道是跑步机太累坚持不下来还是up做的实在难以下咽，听了半天就感觉突然，天上掉下来了个黑格尔，\n",
      "\n",
      "黑格尔其实是很肯定谢林 费希特的种种努力的 而且黑格尔把他们的认识都融了进去，自我辩证运动那解释的也很干瘪，不管黑格尔的本体多么的运动，甚至上升到了绝对精神的自我运动，但是这种绝对精神本质上就变成了一种绝对形而上学。保守的部分也很厉害\n",
      "4. 沈正毅: 虽然估计会有争议，我想看up讲海德格尔以后的现代哲学[tv_调侃]\n",
      "5. 三点水xyz: 这么短的篇幅是不可能讲出什么的，就算是部分也肯定没有。对学习黑格尔的人来说没有帮助，没学习过的人则只会一知半解。但就以一种启发兴趣的角度看，那这视频还是很好的。对于读者，也一定要以这种方式看待，如果花心思看完这期视频为的只是逃避真正的内容，那倒还不如不学它。泽克五个小时的黑格尔讲座比较好，也能让初学者少走很多弯路。\n",
      "6. 天街雨客: 其实讲辩证法也应该说说康德，因为在德国古典哲学中康德是第一个应用辩证法的（虽然是用消极辩证法），然后费希特试图把康德的消极辩证法改造为积极的辩证法，试图把康德的静态体系变成一个相互推演的发展过程，这对谢林和黑格尔产生了深远的影响。\n",
      "7. feellings: 学习哲学的也那么卷的心态么，这标题取的。哲学白学了。\n",
      "8. 生世: 念了半天课本就为了给黑格尔铺垫？你不如直接上来就讲黑格尔，标题起这么不哲学，标题党，提及费希特谢林讲的如此独断，你的意思好像整个德古就是为了给黑格尔踮脚？\n",
      "9. 火箭少男丶杨落后: 下一期可以说一下实证主义怎么披着各种外衣在学科共同体上借尸还魂吗？\n",
      "10. 一只皇帝鸭: up有没有考虑发不出来的内容可以建个群发文字稿[脱单doge]\n",
      "11. 赫拉特皂皂: 听完up的课程真的感觉如沐春风 给我一种淋漓尽致的通透感，短短\n"
     ]
    }
   ],
   "source": [
    "import requests, json, xmltodict\n",
    "import openai\n",
    "\n",
    "def get_cid(bvid, max_page=10):\n",
    "    \"\"\"\n",
    "    Get the cid of a bilibili video from its bvid.\n",
    "    \"\"\"\n",
    "\n",
    "    url = \"https://api.bilibili.com/x/web-interface/view?bvid=\" + str(bvid)\n",
    "    response = requests.get(url)\n",
    "    res_dict = json.loads(response.text)\n",
    "\n",
    "    cookie = r\"LIVE_BUVID=AUTO3715893391262763; balh_mode=replace; balh_server_inner=__custom__; balh_is_closed=; buvid3=6117E460-4D82-4B15-BE1A-A55C9FD10FC618537infoc; buvid4=9518E84A-AA46-DBB3-2C8F-8030D361F84D25428-022050514-ly5N23H31hRIBxdxwOmqvQ==; buvid_fp_plain=undefined; hit-dyn-v2=1; b_nut=100; CURRENT_FNVAL=4048; _uuid=3C447151-E92D-BF57-10B97-E53BB85910C10252753infoc; rpdid=|(kkuum|~uRm0J'uY~|~mY|Ru; hit-new-style-dyn=1; SESSDATA=82dff401,1686423352,82d10*c2; bili_jct=36ea9e991cf030b5126e1d1558ac4e67; DedeUserID=14708458; DedeUserID__ckMd5=1bd4979b8de02688; i-wanna-go-back=-1; b_ut=5; nostalgia_conf=-1; header_theme_version=CLOSE; fingerprint=b2847ca1783dc8f8baadf44ec9d10a20; buvid_fp=9eb5471c66f7cf12232d2dc31ff4ce47; home_feed_column=4; PVID=2; CURRENT_QUALITY=0; bp_video_offset_14708458=769898593419001900; innersign=0; b_lsid=2CF10ED4A_186B6419CC3\"\n",
    "\n",
    "    title    = res_dict['data']['title']\n",
    "    subtitle = res_dict['data']['subtitle']\n",
    "\n",
    "    headers = {\n",
    "        'Cookie': cookie,\n",
    "        'User-Agent': 'Mozilla/5.0 (Windows NT 10.0; Win64; x64) AppleWebKit/537.36 (KHTML, like Gecko) Chrome/58.0.3029.110 Safari/537.3'\n",
    "    }\n",
    "    response = requests.get(url, headers=headers)\n",
    "    data = json.loads(response.text)\n",
    "\n",
    "    subtitle_url = None\n",
    "    if len(data['data']['subtitle']['list']) > 0:\n",
    "        subtitle_url = data['data']['subtitle']['list'][0]['subtitle_url']\n",
    "\n",
    "\n",
    "    num_comments = data['data']['stat']['reply']\n",
    "    comments = []\n",
    "\n",
    "    num_pages = num_comments // 20 + 1\n",
    "    for n in range(1, min(num_pages, max_page) + 1):\n",
    "        url = \"https://api.bilibili.com/x/v2/reply?jsonp=jsonp&pn=\"+str(n)+\"&type=1&oid=\"+str(bvid)+\"&sort=1&nohot=1\"\n",
    "        req = requests.get(url)\n",
    "        text = req.text\n",
    "        json_text_list = json.loads(text)\n",
    "\n",
    "        if json_text_list[\"data\"][\"replies\"] is not None:\n",
    "            for i in json_text_list[\"data\"][\"replies\"]:\n",
    "                comments.append(\"%s: %s\"%(i[\"member\"][\"uname\"],i[\"content\"][\"message\"]))\n",
    "\n",
    "    subtitle = \"\"\n",
    "    if subtitle_url is not None:\n",
    "        subtitle_response = requests.get(subtitle_url, headers=headers)\n",
    "        subtitle = \",\".join([json.loads(subtitle_response.text)['body'][i]['content'] for i in range(len(json.loads(subtitle_response.text)['body']))])\n",
    "\n",
    "    return title, subtitle, comments\n",
    "\n",
    "def get_prompt_summarize_subtitle(title, subtitle):\n",
    "    \"\"\"\n",
    "    Get the prompt for the given cid.\n",
    "    \"\"\"\n",
    "\n",
    "    prompt = \"我希望你是一名专业的视频内容编辑，帮我总结视频的内容精华。请你将视频字幕文本进行总结，然后以无序列表的方式返回，不要超过5条。记得不要重复句子，确保所有的句子都足够精简，清晰完整，祝你好运！\"\n",
    "    prompt = \"我希望你是一名专业的视频内容编辑，你的工作是基于视频的字幕将视频改写成一篇文章。请你将视频字幕文本进行总结，然后以无序列表的方式返回。记得不要重复句子，确保所有的句子都足够精简，清晰完整，祝你好运！\"\n",
    "    prompt += \"\\n视频标题：\" + title\n",
    "    prompt += \"\\n视频字幕：\" + subtitle\n",
    "\n",
    "    return prompt\n",
    "\n",
    "def get_prompt_summarize_comments(title, comments):\n",
    "    \"\"\"\n",
    "    Get the prompt for the given cid.\n",
    "    \"\"\"\n",
    "\n",
    "    prompt  = \"我希望你是一名专业的视频内容编辑，总结评论中被大家认可的观点。请你将视频评论进行总结，然后以无序列表的方式返回，不要超过5条。记得不要重复句子，确保所有的句子都足够精简，清晰完整，祝你好运！\"\n",
    "    prompt += \"\\n视频标题：\" + title\n",
    "    prompt += \"\\n以下是视频评论，每条评论前有其编号：\"\n",
    "\n",
    "    for i, comment in enumerate(comments):\n",
    "        prompt += \"\\n\" + str(i) + \". \" + comment\n",
    "\n",
    "    return prompt\n",
    "\n",
    "t ,s, c = get_cid(\"BV1v341117LF\", max_page=1)\n"
   ]
  },
  {
   "cell_type": "code",
   "execution_count": 146,
   "metadata": {},
   "outputs": [
    {
     "name": "stdout",
     "output_type": "stream",
     "text": [
      "\n",
      "\n",
      "- 辩证法是一种直达本体论的哲学思想，而不仅仅是认识论上的东西。\n",
      "- 黑格尔认为真理是考察概念在历史上的各个哲学家那里场露出的何种规定性的综合。\n",
      "- 辩证法的传统至少上溯到苏格拉底，他将赫拉克利特之诺和苏格拉底共同作为辩证法的创始人。\n",
      "- 在苏格拉底那里，辩证法已经不仅仅停留在主体认识事物，而是在还原事物运动的本来样貌，使知识本身在我们的对话中产生出来。\n",
      "- 古希腊的自然哲学试图通过认识世界，进而认识人，探求人如何组织自己的行动和生活的哲学。\n",
      "- 泰勒斯被认为是世界上第一位哲学家，他回答了世界的本源是什么，它的答案是水，或者说是水所象征的那个生成生长的生命元素。\n",
      "- 赫拉克利特的关键概念是罗格斯，他认为世界就是一团永恒不灭的火，也就是作为普遍规律的理性精神。\n",
      "- 巴门尼德认为万物皆动，为他不动，他自身不动，但却是一切事物的推动者。\n",
      "- 从巴门尼德开始，希腊哲学开始向更高的维度转向，称之为本体论的转向。\n",
      "- 在人们的语言交流中，逐渐形成了一种基本的语句结构，就是主词系词名词的结构。\n"
     ]
    }
   ],
   "source": [
    "import os\n",
    "import openai\n",
    "openai.api_key = os.getenv(\"OPENAI_API_KEY\")\n",
    "completion = openai.ChatCompletion.create(\n",
    "  model=\"gpt-3.5-turbo\",\n",
    "  messages=[\n",
    "    {\n",
    "      \"role\": \"user\", \n",
    "    \"content\": get_prompt_summarize_subtitle(t, s)[:2000]\n",
    "    },\n",
    "  ],\n",
    "  temperature = 0.5,\n",
    "  top_p = 1,\n",
    "  frequency_penalty = 0,\n",
    "  presence_penalty = 0,\n",
    "  max_tokens = 1000,\n",
    "  stream = False, n = 1,\n",
    ")\n",
    "print(completion[\"choices\"][0][\"message\"][\"content\"])"
   ]
  },
  {
   "cell_type": "code",
   "execution_count": 147,
   "metadata": {},
   "outputs": [
    {
     "name": "stdout",
     "output_type": "stream",
     "text": [
      "\n",
      "\n",
      "3. 小猪佩奇的爹: 辩证法是一种思维方式，它通过对矛盾的分析和解决，推动事物的发展和进步。本视频通过历史的角度，深入浅出地介绍了辩证法的发展历程和主要思想，对于初学者来说十分友好易懂。\n",
      "\n",
      "4. 花花绿绿的春天: 视频中提到了黑格尔的辩证法是倒立的，需要将其倒过来才能发现内核。这个观点十分有启发性，也让我对辩证法有了更深入的理解。\n",
      "\n",
      "5. 红烧肉加蛋: 辩证法不仅仅可以用于哲学领域，它在实际生活中也有很多应用。例如，在解决矛盾时需要找到平衡点，在发展事物时需要考虑到矛盾的存在等等。这些都是辩证法思维的具体体现。\n"
     ]
    }
   ],
   "source": [
    "import os\n",
    "import openai\n",
    "openai.api_key = os.getenv(\"OPENAI_API_KEY\")\n",
    "completion = openai.ChatCompletion.create(\n",
    "  model=\"gpt-3.5-turbo\",\n",
    "  messages=[\n",
    "    {\n",
    "      \"role\": \"user\", \n",
    "    \"content\": get_prompt_summarize_comments(t, c)[:1000]\n",
    "    },\n",
    "  ],\n",
    "  temperature = 0.5,\n",
    "  top_p = 1,\n",
    "  frequency_penalty = 0,\n",
    "  presence_penalty = 0,\n",
    "  max_tokens = 2000,\n",
    "  stream = False, n = 1,\n",
    ")\n",
    "print(completion[\"choices\"][0][\"message\"][\"content\"])"
   ]
  }
 ],
 "metadata": {
  "kernelspec": {
   "display_name": "base",
   "language": "python",
   "name": "python3"
  },
  "language_info": {
   "codemirror_mode": {
    "name": "ipython",
    "version": 3
   },
   "file_extension": ".py",
   "mimetype": "text/x-python",
   "name": "python",
   "nbconvert_exporter": "python",
   "pygments_lexer": "ipython3",
   "version": "3.9.13"
  },
  "orig_nbformat": 4,
  "vscode": {
   "interpreter": {
    "hash": "cd6d3c4e16ae333676ac5ff0bb552f825d1015cadc6d12817bd9921e3f430be2"
   }
  }
 },
 "nbformat": 4,
 "nbformat_minor": 2
}
